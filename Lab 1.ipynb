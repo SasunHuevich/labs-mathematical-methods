{
 "cells": [
  {
   "cell_type": "markdown",
   "id": "03792941",
   "metadata": {},
   "source": [
    "# Лаб1. Оптимизационные модели. Моделирование и решение."
   ]
  },
  {
   "cell_type": "markdown",
   "id": "400da911",
   "metadata": {},
   "source": [
    "## Задание 1"
   ]
  },
  {
   "cell_type": "markdown",
   "id": "63ccab0a",
   "metadata": {},
   "source": [
    "### Постановка задачи"
   ]
  },
  {
   "cell_type": "markdown",
   "id": "d455c124",
   "metadata": {},
   "source": [
    "Мы решили открыть кофейню, которая делает два вида кофе \"Раф кофе\" за 400 рублей и \"Капучино\" за 300.\n",
    "\n",
    "Чтобы сварить 1 чашку Раф кофе необходимо: 40 гр. зерен, 140 гр. молока и 5 гр. ванильного сахара. Для того чтобы получить одну чашку капучино нужно потратить: 30 гр. зерен, 120 гр. молока На складе есть: 500 гр. зерен, 2000 гр. молока и 40 гр. ванильного сахара.\n",
    "\n",
    "Необходимо найти план варки кофе, обеспечивающий максимальную выручку от их реализации, учитывая, что нам не важно мнение покупателей, главное потратить весь ванильный сахар.\n",
    "\n",
    "Требуется построить математическую модель (описать ее в блокноте при помощи Markdown), создать два блокнота  в Google Colab (среда выполнения: Python, Julia). Построить модели на соответствующем языке. Решить задачу. Подготовить один слайд для презентации результата (визуализация результата) (используйте latex и Overleaf; при создании слайда в latex примените Qwen, Deepseek или др. )."
   ]
  },
  {
   "cell_type": "markdown",
   "id": "8e1e9d66",
   "metadata": {},
   "source": [
    "### Математеческая модель"
   ]
  },
  {
   "cell_type": "markdown",
   "id": "85ea791e",
   "metadata": {},
   "source": [
    "- $x$ — кол-во чашек кофе **раф**  \n",
    "- $y$ — кол-во чашек кофе **капучино**  \n",
    "\n",
    "Ограничения:  \n",
    "- $40x + 30y \\le 500$ — ограничение по зёрнам (гр.)  \n",
    "- $140x + 500y \\le 2000$ — ограничение по молоку (гр.)  \n",
    "- $5x = 40$ — ограничение по ванильному сахару (гр.)\n",
    "\n",
    "Ограничения целостности?:\n",
    "- $x \\ge 0$\n",
    "- $y \\ge 0$\n",
    "- $x \\in \\mathbb{Z}$\n",
    "- $y \\in \\mathbb{Z}$\n",
    "\n",
    "Выручка:\n",
    "- $400x + 300y \\to  max$"
   ]
  },
  {
   "cell_type": "markdown",
   "id": "021f22a8",
   "metadata": {},
   "source": [
    "### Код"
   ]
  },
  {
   "cell_type": "code",
   "execution_count": 5,
   "id": "119f6550",
   "metadata": {},
   "outputs": [
    {
     "name": "stdout",
     "output_type": "stream",
     "text": [
      "x = 8\n",
      "y = 6\n",
      "Максимальная выручка = 5000\n"
     ]
    }
   ],
   "source": [
    ":dep good_lp = \"1.14.0\"\n",
    "\n",
    "use good_lp::*;\n",
    "\n",
    "let mut vars = variables!();\n",
    "let x = vars.add(variable().min(0.0));\n",
    "let y = vars.add(variable().min(0.0));\n",
    "\n",
    "let problem = vars\n",
    "    .maximise(400.0 * x + 300.0 * y)\n",
    "    .using(default_solver)\n",
    "    .with(constraint!(40.0 * x + 30.0 * y <= 500.0))\n",
    "    .with(constraint!(140.0 * x + 120.0 * y <= 2000.0))\n",
    "    .with(constraint!(5.0 * x == 40.0));\n",
    "\n",
    "let solution = problem.solve()?;\n",
    "\n",
    "println!(\"x = {}\", solution.value(x));\n",
    "println!(\"y = {}\", solution.value(y));\n",
    "\n",
    "let revenue = solution.eval(400.0 * x + 300.0 * y);\n",
    "println!(\"Максимальная выручка = {}\", revenue);"
   ]
  },
  {
   "cell_type": "code",
   "execution_count": null,
   "id": "d2a72c2f",
   "metadata": {},
   "outputs": [],
   "source": []
  }
 ],
 "metadata": {
  "kernelspec": {
   "display_name": "Rust",
   "language": "rust",
   "name": "rust"
  },
  "language_info": {
   "codemirror_mode": "rust",
   "file_extension": ".rs",
   "mimetype": "text/rust",
   "name": "Rust",
   "pygment_lexer": "rust",
   "version": ""
  }
 },
 "nbformat": 4,
 "nbformat_minor": 5
}
